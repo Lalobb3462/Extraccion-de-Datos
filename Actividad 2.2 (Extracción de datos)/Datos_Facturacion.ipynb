{
 "cells": [
  {
   "cell_type": "markdown",
   "metadata": {},
   "source": [
    "**Actividad 2.2 (Extracción de datos)**\n",
    "**Eduardo Ballinas Ballinas**"
   ]
  },
  {
   "cell_type": "code",
   "execution_count": 1,
   "metadata": {},
   "outputs": [],
   "source": [
    "import pandas as pd\n",
    "import numpy as np\n",
    "import matplotlib.pyplot as plt\n",
    "import seaborn as sns"
   ]
  },
  {
   "cell_type": "markdown",
   "metadata": {},
   "source": [
    "**Lectura de los datos**"
   ]
  },
  {
   "cell_type": "code",
   "execution_count": null,
   "metadata": {},
   "outputs": [],
   "source": [
    "df =pd.read_excel(\"Datos de Facturación.xlsx\")\n",
    "df"
   ]
  },
  {
   "cell_type": "markdown",
   "metadata": {},
   "source": [
    "**1. CVE_CLPV (Valores de 1000 a 2000)**"
   ]
  },
  {
   "cell_type": "code",
   "execution_count": 45,
   "metadata": {},
   "outputs": [
    {
     "data": {
      "text/html": [
       "<div>\n",
       "<style scoped>\n",
       "    .dataframe tbody tr th:only-of-type {\n",
       "        vertical-align: middle;\n",
       "    }\n",
       "\n",
       "    .dataframe tbody tr th {\n",
       "        vertical-align: top;\n",
       "    }\n",
       "\n",
       "    .dataframe thead th {\n",
       "        text-align: right;\n",
       "    }\n",
       "</style>\n",
       "<table border=\"1\" class=\"dataframe\">\n",
       "  <thead>\n",
       "    <tr style=\"text-align: right;\">\n",
       "      <th></th>\n",
       "      <th>CVE_CLPV</th>\n",
       "    </tr>\n",
       "  </thead>\n",
       "  <tbody>\n",
       "    <tr>\n",
       "      <th>18</th>\n",
       "      <td>1965.0</td>\n",
       "    </tr>\n",
       "    <tr>\n",
       "      <th>22</th>\n",
       "      <td>1965.0</td>\n",
       "    </tr>\n",
       "    <tr>\n",
       "      <th>65</th>\n",
       "      <td>1240.0</td>\n",
       "    </tr>\n",
       "    <tr>\n",
       "      <th>71</th>\n",
       "      <td>1965.0</td>\n",
       "    </tr>\n",
       "    <tr>\n",
       "      <th>72</th>\n",
       "      <td>1965.0</td>\n",
       "    </tr>\n",
       "    <tr>\n",
       "      <th>...</th>\n",
       "      <td>...</td>\n",
       "    </tr>\n",
       "    <tr>\n",
       "      <th>10821</th>\n",
       "      <td>1757.0</td>\n",
       "    </tr>\n",
       "    <tr>\n",
       "      <th>10839</th>\n",
       "      <td>1583.0</td>\n",
       "    </tr>\n",
       "    <tr>\n",
       "      <th>10845</th>\n",
       "      <td>1786.0</td>\n",
       "    </tr>\n",
       "    <tr>\n",
       "      <th>10871</th>\n",
       "      <td>1453.0</td>\n",
       "    </tr>\n",
       "    <tr>\n",
       "      <th>10876</th>\n",
       "      <td>1082.0</td>\n",
       "    </tr>\n",
       "  </tbody>\n",
       "</table>\n",
       "<p>581 rows × 1 columns</p>\n",
       "</div>"
      ],
      "text/plain": [
       "       CVE_CLPV\n",
       "18       1965.0\n",
       "22       1965.0\n",
       "65       1240.0\n",
       "71       1965.0\n",
       "72       1965.0\n",
       "...         ...\n",
       "10821    1757.0\n",
       "10839    1583.0\n",
       "10845    1786.0\n",
       "10871    1453.0\n",
       "10876    1082.0\n",
       "\n",
       "[581 rows x 1 columns]"
      ]
     },
     "execution_count": 45,
     "metadata": {},
     "output_type": "execute_result"
    }
   ],
   "source": [
    "df[\"CVE_CLPV\"] = pd.to_numeric(df[\"CVE_CLPV\"])\n",
    "clpv=df.loc[(df[\"CVE_CLPV\"] >= 1000) & (df[\"CVE_CLPV\"] <= 2000),[\"CVE_CLPV\"]]\n",
    "clpv\n"
   ]
  },
  {
   "cell_type": "markdown",
   "metadata": {},
   "source": [
    "**2. CVE_VEND (Todas las claves excepto \"5\" y \"4\")**"
   ]
  },
  {
   "cell_type": "code",
   "execution_count": null,
   "metadata": {},
   "outputs": [],
   "source": [
    "vend=df.loc[~((df[\"CVE_VEND\"]==4)|(df[\"CVE_VEND\"]==5))]\n",
    "vend"
   ]
  },
  {
   "cell_type": "markdown",
   "metadata": {},
   "source": [
    "**3. FECHA_ENT (Fechas de \"28/02/2022\")**"
   ]
  },
  {
   "cell_type": "code",
   "execution_count": null,
   "metadata": {},
   "outputs": [],
   "source": [
    "df[\"FECHA_ENT\"] = pd.to_datetime(df[\"FECHA_ENT\"], errors='coerce')\n",
    "fecha = df[df[\"FECHA_ENT\"] == \"28/02/2022\"]\n",
    "fecha"
   ]
  },
  {
   "cell_type": "markdown",
   "metadata": {},
   "source": [
    "**4. CAN_TOT (Cantidades menores a 5971.7 o STATUS \"E\")**"
   ]
  },
  {
   "cell_type": "code",
   "execution_count": null,
   "metadata": {},
   "outputs": [],
   "source": [
    "total= df[(df[\"CAN_TOT\"]<5951.7) | (df[\"STATUS\"]==\"E\")]\n",
    "total"
   ]
  },
  {
   "cell_type": "markdown",
   "metadata": {},
   "source": [
    "**5.Solo las columnas CVE_DOC, FECHA_ENT, FECHA_VEN Y CAN_TOT**"
   ]
  },
  {
   "cell_type": "code",
   "execution_count": null,
   "metadata": {},
   "outputs": [],
   "source": [
    "columnas= df.loc[ : , [\"CVE_DOC\", \"FECHA_ENT\", \"FECHA_VEN\", \"CAN_TOT\"]]          #Columnas no consecutivas\n",
    "columnas"
   ]
  },
  {
   "cell_type": "markdown",
   "metadata": {},
   "source": [
    "**6. Solo las filas de 7001-7099**"
   ]
  },
  {
   "cell_type": "code",
   "execution_count": null,
   "metadata": {},
   "outputs": [],
   "source": [
    "filas= df.iloc[7000:7099,:]\n",
    "filas\n",
    "#En cuestión de filas de las bases de datos, como empezamos en 0 debemos empezar en el dato 7000 aquí (uno antes) y terminar en el número en cuestión.\n",
    "#Esto en la tabla se ve de manera que empieza en 7000 y acaba en 7098, contando los 99 datos solicitados."
   ]
  },
  {
   "cell_type": "markdown",
   "metadata": {},
   "source": [
    "**7. Index= CVE_VEND (valores 1:2) (columna:FECHAELAB)**"
   ]
  },
  {
   "cell_type": "code",
   "execution_count": 36,
   "metadata": {},
   "outputs": [
    {
     "data": {
      "text/html": [
       "<div>\n",
       "<style scoped>\n",
       "    .dataframe tbody tr th:only-of-type {\n",
       "        vertical-align: middle;\n",
       "    }\n",
       "\n",
       "    .dataframe tbody tr th {\n",
       "        vertical-align: top;\n",
       "    }\n",
       "\n",
       "    .dataframe thead th {\n",
       "        text-align: right;\n",
       "    }\n",
       "</style>\n",
       "<table border=\"1\" class=\"dataframe\">\n",
       "  <thead>\n",
       "    <tr style=\"text-align: right;\">\n",
       "      <th></th>\n",
       "      <th>FECHAELAB</th>\n",
       "    </tr>\n",
       "    <tr>\n",
       "      <th>CVE_VEND</th>\n",
       "      <th></th>\n",
       "    </tr>\n",
       "  </thead>\n",
       "  <tbody>\n",
       "    <tr>\n",
       "      <th>1.0</th>\n",
       "      <td>2019-09-03 08:58:42.000</td>\n",
       "    </tr>\n",
       "    <tr>\n",
       "      <th>1.0</th>\n",
       "      <td>2019-09-03 09:55:14.000</td>\n",
       "    </tr>\n",
       "    <tr>\n",
       "      <th>1.0</th>\n",
       "      <td>2019-09-03 13:25:33.000</td>\n",
       "    </tr>\n",
       "    <tr>\n",
       "      <th>1.0</th>\n",
       "      <td>2019-09-03 13:33:23.000</td>\n",
       "    </tr>\n",
       "    <tr>\n",
       "      <th>1.0</th>\n",
       "      <td>2019-09-04 09:15:12.000</td>\n",
       "    </tr>\n",
       "    <tr>\n",
       "      <th>...</th>\n",
       "      <td>...</td>\n",
       "    </tr>\n",
       "    <tr>\n",
       "      <th>2.0</th>\n",
       "      <td>2023-03-06 16:09:39.013</td>\n",
       "    </tr>\n",
       "    <tr>\n",
       "      <th>2.0</th>\n",
       "      <td>2023-03-06 16:38:42.933</td>\n",
       "    </tr>\n",
       "    <tr>\n",
       "      <th>2.0</th>\n",
       "      <td>2023-03-06 17:02:33.390</td>\n",
       "    </tr>\n",
       "    <tr>\n",
       "      <th>2.0</th>\n",
       "      <td>2023-03-07 12:43:49.567</td>\n",
       "    </tr>\n",
       "    <tr>\n",
       "      <th>2.0</th>\n",
       "      <td>2023-03-07 12:45:58.407</td>\n",
       "    </tr>\n",
       "  </tbody>\n",
       "</table>\n",
       "<p>8665 rows × 1 columns</p>\n",
       "</div>"
      ],
      "text/plain": [
       "                       FECHAELAB\n",
       "CVE_VEND                        \n",
       "1.0      2019-09-03 08:58:42.000\n",
       "1.0      2019-09-03 09:55:14.000\n",
       "1.0      2019-09-03 13:25:33.000\n",
       "1.0      2019-09-03 13:33:23.000\n",
       "1.0      2019-09-04 09:15:12.000\n",
       "...                          ...\n",
       "2.0      2023-03-06 16:09:39.013\n",
       "2.0      2023-03-06 16:38:42.933\n",
       "2.0      2023-03-06 17:02:33.390\n",
       "2.0      2023-03-07 12:43:49.567\n",
       "2.0      2023-03-07 12:45:58.407\n",
       "\n",
       "[8665 rows x 1 columns]"
      ]
     },
     "execution_count": 36,
     "metadata": {},
     "output_type": "execute_result"
    }
   ],
   "source": [
    "#7. Index= CVE_VEND (valores 1:2) (columna:FECHAELAB)\n",
    "df1= pd.read_excel('Datos de Facturación.xlsx', index_col=\"CVE_VEND\")\n",
    "df1= df1.loc[[1,2], [\"FECHAELAB\"]]\n",
    "df1\n"
   ]
  }
 ],
 "metadata": {
  "kernelspec": {
   "display_name": "Python 3",
   "language": "python",
   "name": "python3"
  },
  "language_info": {
   "codemirror_mode": {
    "name": "ipython",
    "version": 3
   },
   "file_extension": ".py",
   "mimetype": "text/x-python",
   "name": "python",
   "nbconvert_exporter": "python",
   "pygments_lexer": "ipython3",
   "version": "3.13.1"
  }
 },
 "nbformat": 4,
 "nbformat_minor": 2
}
